{
 "cells": [
  {
   "cell_type": "code",
   "execution_count": 2,
   "metadata": {},
   "outputs": [],
   "source": [
    "import pandas as pd\n",
    "import numpy as np\n",
    "import matplotlib.pyplot as plt"
   ]
  },
  {
   "cell_type": "code",
   "execution_count": 131,
   "metadata": {
    "scrolled": false
   },
   "outputs": [
    {
     "name": "stderr",
     "output_type": "stream",
     "text": [
      "C:\\Users\\Tim\\anaconda3\\lib\\site-packages\\IPython\\core\\interactiveshell.py:3071: DtypeWarning: Columns (12,13,14,40,46,55,65,66,67,68,177,294,298,299,300,301,304,305,306,307,308,309,310,318,320,328,330,346,348,350,352,354,359,361,363,366,373,377,381,383,418,419,432,433,434,435,436,438,439,440,441,442,444,445,446,447,448,450,451,452,453,454) have mixed types.Specify dtype option on import or set low_memory=False.\n",
      "  has_raised = await self.run_ast_nodes(code_ast.body, cell_name,\n"
     ]
    }
   ],
   "source": [
    "#Import datasets\n",
    "metadata = pd.read_csv('hmp2_metadata.csv')\n",
    "clusters = pd.read_csv('cluster analysis.csv')"
   ]
  },
  {
   "cell_type": "code",
   "execution_count": 6,
   "metadata": {},
   "outputs": [
    {
     "data": {
      "text/plain": [
       "((1638, 490), (835, 490))"
      ]
     },
     "execution_count": 6,
     "metadata": {},
     "output_type": "execute_result"
    }
   ],
   "source": [
    "#Select only the rows with the metagenomics or metatranscriptomics datatype\n",
    "metadata1 = metadata[metadata['data_type'] == 'metagenomics']\n",
    "metadata2 = metadata[metadata['data_type'] == 'metatranscriptomics']\n",
    "metadata1.shape, metadata2.shape"
   ]
  },
  {
   "cell_type": "code",
   "execution_count": 337,
   "metadata": {
    "scrolled": true
   },
   "outputs": [],
   "source": [
    "#Select the Age at diagnosis and sex metadata metrics\n",
    "metadatac = metadata1.append(metadata2)\n",
    "metadatac = metadatac.reset_index()\n",
    "metavdataf1 = metadatac[['External ID','data_type', 'Age at diagnosis', 'sex']]"
   ]
  },
  {
   "cell_type": "code",
   "execution_count": 338,
   "metadata": {},
   "outputs": [],
   "source": [
    "#Select only the name and group label (group2) columns\n",
    "clusters = clusters[['group2','name']]"
   ]
  },
  {
   "cell_type": "code",
   "execution_count": 339,
   "metadata": {
    "scrolled": true
   },
   "outputs": [
    {
     "data": {
      "text/plain": [
       "Text(0.5, 0, 'Cluster')"
      ]
     },
     "execution_count": 339,
     "metadata": {},
     "output_type": "execute_result"
    },
    {
     "data": {
      "image/png": "[encoded data removed]",
      "text/plain": [
       "<Figure size 432x288 with 1 Axes>"
      ]
     },
     "metadata": {
      "needs_background": "light"
     },
     "output_type": "display_data"
    }
   ],
   "source": [
    "#Determine the largest clusters\n",
    "import seaborn as sns\n",
    "fig = plt.figure()\n",
    "ax = sns.countplot(x=\"group2\", data=clusters)\n",
    "ax.set_title('Number of occurences of each cluster')\n",
    "ax.set_xlabel('Cluster')"
   ]
  },
  {
   "cell_type": "code",
   "execution_count": 134,
   "metadata": {},
   "outputs": [],
   "source": [
    "import os\n",
    "fig.savefig('cluster size.png', bbox_inches='tight', dpi=150)"
   ]
  },
  {
   "cell_type": "code",
   "execution_count": null,
   "metadata": {},
   "outputs": [],
   "source": [
    "##Cluster characterization"
   ]
  },
  {
   "cell_type": "code",
   "execution_count": 340,
   "metadata": {},
   "outputs": [],
   "source": [
    "#Select clusters with the highest number of samples\n",
    "clust6 = clusters.loc[clusters['group2'] == 6]\n",
    "clust10 = clusters.loc[clusters['group2'] == 10]\n",
    "clust9 = clusters.loc[clusters['group2'] == 9]\n",
    "clust2 = clusters.loc[clusters['group2'] == 2]\n",
    "\n",
    "clust6 = np.array(clust6.iloc[:,1])\n",
    "clust10 = np.array(clust10.iloc[:,1])\n",
    "clust9 = np.array(clust9.iloc[:,1])\n",
    "clust2 = np.array(clust2.iloc[:,1])"
   ]
  },
  {
   "cell_type": "code",
   "execution_count": null,
   "metadata": {},
   "outputs": [],
   "source": [
    "##The sample names from the metadata have \"_P\" added making comparing difficult. \n",
    "##First, the last two characters of all \"external ID\" strings are removed"
   ]
  },
  {
   "cell_type": "code",
   "execution_count": 341,
   "metadata": {},
   "outputs": [],
   "source": [
    "#Select the external ID (sample) column\n",
    "metdataID = [metadataf1.iloc[:,0]]\n",
    "metdataID = np.array(metdataID)\n",
    "metdataID = list(metdataID)\n",
    "\n",
    "#Remove the last two characters in each string\n",
    "metaID = []\n",
    "for i in range(len(metdataID)):\n",
    "    x = list(map(lambda j: j[:-2], metdataID[i]))\n",
    "    metaID.append(x)\n",
    "metaID = np.transpose(metaID)\n",
    "metaID1 = pd.DataFrame(metaID)\n",
    "\n",
    "#Before adding the processed external ID column back, the indices must be identical\n",
    "metadataf1 = metadataf1.reset_index()\n",
    "metadataf1 = metadataf1.drop('index', axis=1)\n",
    "\n",
    "#Add the processed External ID column back under the \"sample\" name to avoid confusion\n",
    "metadataf1['sample'] = metaID1"
   ]
  },
  {
   "cell_type": "code",
   "execution_count": 351,
   "metadata": {},
   "outputs": [
    {
     "data": {
      "text/html": [
       "<div>\n",
       "<style scoped>\n",
       "    .dataframe tbody tr th:only-of-type {\n",
       "        vertical-align: middle;\n",
       "    }\n",
       "\n",
       "    .dataframe tbody tr th {\n",
       "        vertical-align: top;\n",
       "    }\n",
       "\n",
       "    .dataframe thead th {\n",
       "        text-align: right;\n",
       "    }\n",
       "</style>\n",
       "<table border=\"1\" class=\"dataframe\">\n",
       "  <thead>\n",
       "    <tr style=\"text-align: right;\">\n",
       "      <th></th>\n",
       "      <th>External ID</th>\n",
       "      <th>data_type</th>\n",
       "      <th>Age at diagnosis</th>\n",
       "      <th>sex</th>\n",
       "      <th>sample</th>\n",
       "    </tr>\n",
       "  </thead>\n",
       "  <tbody>\n",
       "    <tr>\n",
       "      <th>21</th>\n",
       "      <td>CSM5FZ46_P</td>\n",
       "      <td>metagenomics</td>\n",
       "      <td>47.0</td>\n",
       "      <td>Female</td>\n",
       "      <td>CSM5FZ46</td>\n",
       "    </tr>\n",
       "    <tr>\n",
       "      <th>22</th>\n",
       "      <td>CSM5MCVJ_P</td>\n",
       "      <td>metagenomics</td>\n",
       "      <td>47.0</td>\n",
       "      <td>Female</td>\n",
       "      <td>CSM5MCVJ</td>\n",
       "    </tr>\n",
       "    <tr>\n",
       "      <th>77</th>\n",
       "      <td>CSM5MCTZ_P</td>\n",
       "      <td>metagenomics</td>\n",
       "      <td>24.0</td>\n",
       "      <td>Male</td>\n",
       "      <td>CSM5MCTZ</td>\n",
       "    </tr>\n",
       "    <tr>\n",
       "      <th>78</th>\n",
       "      <td>CSM5MCUG_P</td>\n",
       "      <td>metagenomics</td>\n",
       "      <td>24.0</td>\n",
       "      <td>Male</td>\n",
       "      <td>CSM5MCUG</td>\n",
       "    </tr>\n",
       "    <tr>\n",
       "      <th>417</th>\n",
       "      <td>ESM5ME9D_P</td>\n",
       "      <td>metagenomics</td>\n",
       "      <td>8.0</td>\n",
       "      <td>Female</td>\n",
       "      <td>ESM5ME9D</td>\n",
       "    </tr>\n",
       "    <tr>\n",
       "      <th>430</th>\n",
       "      <td>ESM5ME9H_P</td>\n",
       "      <td>metagenomics</td>\n",
       "      <td>NaN</td>\n",
       "      <td>Female</td>\n",
       "      <td>ESM5ME9H</td>\n",
       "    </tr>\n",
       "    <tr>\n",
       "      <th>982</th>\n",
       "      <td>CSM5LLGB_P</td>\n",
       "      <td>metagenomics</td>\n",
       "      <td>30.0</td>\n",
       "      <td>Male</td>\n",
       "      <td>CSM5LLGB</td>\n",
       "    </tr>\n",
       "    <tr>\n",
       "      <th>992</th>\n",
       "      <td>MSM5LLHR_P</td>\n",
       "      <td>metagenomics</td>\n",
       "      <td>26.0</td>\n",
       "      <td>Male</td>\n",
       "      <td>MSM5LLHR</td>\n",
       "    </tr>\n",
       "    <tr>\n",
       "      <th>993</th>\n",
       "      <td>MSM5LLIE_P</td>\n",
       "      <td>metagenomics</td>\n",
       "      <td>26.0</td>\n",
       "      <td>Male</td>\n",
       "      <td>MSM5LLIE</td>\n",
       "    </tr>\n",
       "  </tbody>\n",
       "</table>\n",
       "</div>"
      ],
      "text/plain": [
       "    External ID     data_type  Age at diagnosis     sex    sample\n",
       "21   CSM5FZ46_P  metagenomics              47.0  Female  CSM5FZ46\n",
       "22   CSM5MCVJ_P  metagenomics              47.0  Female  CSM5MCVJ\n",
       "77   CSM5MCTZ_P  metagenomics              24.0    Male  CSM5MCTZ\n",
       "78   CSM5MCUG_P  metagenomics              24.0    Male  CSM5MCUG\n",
       "417  ESM5ME9D_P  metagenomics               8.0  Female  ESM5ME9D\n",
       "430  ESM5ME9H_P  metagenomics               NaN  Female  ESM5ME9H\n",
       "982  CSM5LLGB_P  metagenomics              30.0    Male  CSM5LLGB\n",
       "992  MSM5LLHR_P  metagenomics              26.0    Male  MSM5LLHR\n",
       "993  MSM5LLIE_P  metagenomics              26.0    Male  MSM5LLIE"
      ]
     },
     "execution_count": 351,
     "metadata": {},
     "output_type": "execute_result"
    }
   ],
   "source": [
    "#Select only the samples mapping the the samples in cluster 6,10,2 and 9\n",
    "metaID6 = metadataf1[metadataf1.iloc[:,4].isin(clust6)]\n",
    "metaID10 = metadataf1[metadataf1.iloc[:,4].isin(clust10)]\n",
    "metaID2 = metadataf1[metadataf1.iloc[:,4].isin(clust2)]\n",
    "metaID9 = metadataf1[metadataf1.iloc[:,4].isin(clust9)]\n",
    "\n",
    "#This results in duplicates for each sample as the samples and measurements are duplicated for both the\n",
    "#metagenomics and metatranscriptomics datatype.\n",
    "metaID6 = metaID6.drop_duplicates(subset=['sample'])\n",
    "metaID10 = metaID10.drop_duplicates(subset=['sample'])\n",
    "metaID2 = metaID2.drop_duplicates(subset=['sample'])\n",
    "metaID9 = metaID9.drop_duplicates(subset=['sample'])"
   ]
  },
  {
   "cell_type": "code",
   "execution_count": 115,
   "metadata": {},
   "outputs": [
    {
     "data": {
      "text/plain": [
       "[33.2, 21.3, 26.6, 29.0]"
      ]
     },
     "execution_count": 115,
     "metadata": {},
     "output_type": "execute_result"
    }
   ],
   "source": [
    "#Determine average age \n",
    "A1 = round(metaID6.iloc[:,2].mean(),1)\n",
    "A2 = round(metaID10.iloc[:,2].mean(),1)\n",
    "A3 = round(metaID2.iloc[:,2].mean(),1)\n",
    "A4 = round(metaID9.iloc[:,2].mean(),1)\n",
    "mean_age = [A1,A2,A3,A4]\n",
    "mean_age"
   ]
  },
  {
   "cell_type": "code",
   "execution_count": 350,
   "metadata": {},
   "outputs": [
    {
     "data": {
      "text/plain": [
       "[0.08, 0.71, 0.29, 1.25]"
      ]
     },
     "execution_count": 350,
     "metadata": {},
     "output_type": "execute_result"
    }
   ],
   "source": [
    "#Determine sex ration\n",
    "male = 'Male'\n",
    "female = 'Female'\n",
    "S1 = round(metaID6.iloc[:,3].str.count(male).sum() / metaID6.iloc[:,3].str.count(female).sum(),2)\n",
    "S2 = round(metaID10.iloc[:,3].str.count(male).sum() / metaID10.iloc[:,3].str.count(female).sum(),2)\n",
    "S3 = round(metaID2.iloc[:,3].str.count(male).sum() / metaID2.iloc[:,3].str.count(female).sum(),2)\n",
    "S4 = round(metaID9.iloc[:,3].str.count(male).sum() / metaID9.iloc[:,3].str.count(female).sum(),2)\n",
    "sex_ratio = [S1,S2,S3,S4]\n",
    "sex_ratio"
   ]
  },
  {
   "cell_type": "code",
   "execution_count": 105,
   "metadata": {},
   "outputs": [
    {
     "data": {
      "text/plain": [
       "[13, 12, 9, 9]"
      ]
     },
     "execution_count": 105,
     "metadata": {},
     "output_type": "execute_result"
    }
   ],
   "source": [
    "#Determine number of samples per cluster\n",
    "C1 = metaID6.iloc[:,3].count()\n",
    "C2 = metaID10.iloc[:,3].count()\n",
    "C3 = metaID2.iloc[:,3].count()\n",
    "C4 = metaID9.iloc[:,3].count()\n",
    "Clust_count = [C1,C2,C3,C4]\n",
    "Clust_count"
   ]
  },
  {
   "cell_type": "code",
   "execution_count": 346,
   "metadata": {
    "scrolled": false
   },
   "outputs": [
    {
     "data": {
      "text/html": [
       "<div>\n",
       "<style scoped>\n",
       "    .dataframe tbody tr th:only-of-type {\n",
       "        vertical-align: middle;\n",
       "    }\n",
       "\n",
       "    .dataframe tbody tr th {\n",
       "        vertical-align: top;\n",
       "    }\n",
       "\n",
       "    .dataframe thead th {\n",
       "        text-align: right;\n",
       "    }\n",
       "</style>\n",
       "<table border=\"1\" class=\"dataframe\">\n",
       "  <thead>\n",
       "    <tr style=\"text-align: right;\">\n",
       "      <th></th>\n",
       "      <th>Average age of diagnosis</th>\n",
       "      <th>Female/male ratio</th>\n",
       "      <th>Cluster size</th>\n",
       "    </tr>\n",
       "  </thead>\n",
       "  <tbody>\n",
       "    <tr>\n",
       "      <th>cluster 6</th>\n",
       "      <td>33.2</td>\n",
       "      <td>0.92</td>\n",
       "      <td>13</td>\n",
       "    </tr>\n",
       "    <tr>\n",
       "      <th>cluster 10</th>\n",
       "      <td>21.3</td>\n",
       "      <td>0.54</td>\n",
       "      <td>12</td>\n",
       "    </tr>\n",
       "    <tr>\n",
       "      <th>cluster 2</th>\n",
       "      <td>26.6</td>\n",
       "      <td>0.54</td>\n",
       "      <td>9</td>\n",
       "    </tr>\n",
       "    <tr>\n",
       "      <th>cluster 9</th>\n",
       "      <td>29.0</td>\n",
       "      <td>0.31</td>\n",
       "      <td>9</td>\n",
       "    </tr>\n",
       "  </tbody>\n",
       "</table>\n",
       "</div>"
      ],
      "text/plain": [
       "            Average age of diagnosis  Female/male ratio  Cluster size\n",
       "cluster 6                       33.2               0.92            13\n",
       "cluster 10                      21.3               0.54            12\n",
       "cluster 2                       26.6               0.54             9\n",
       "cluster 9                       29.0               0.31             9"
      ]
     },
     "execution_count": 346,
     "metadata": {},
     "output_type": "execute_result"
    }
   ],
   "source": [
    "#Combine all results in a table\n",
    "char = pd.DataFrame(mean_age)\n",
    "char['female/male ratio'] = pd.DataFrame(sex_ratio)\n",
    "char['cluster size'] = pd.DataFrame(Clust_count)\n",
    "char.columns = ['Average age of diagnosis', 'Female/male ratio', 'Cluster size']\n",
    "char.index = ['cluster 6', 'cluster 10', 'cluster 2', 'cluster 9']\n",
    "char"
   ]
  },
  {
   "cell_type": "code",
   "execution_count": 129,
   "metadata": {},
   "outputs": [
    {
     "data": {
      "text/plain": [
       "(0.51, 21.5)"
      ]
     },
     "execution_count": 129,
     "metadata": {},
     "output_type": "execute_result"
    }
   ],
   "source": [
    "#Compare values with average sex ratio and age of diagnosis for all samples\n",
    "avg_sex_ratio = round(metavdataf1.iloc[:,3].str.count(substr).sum() / metavdataf1.iloc[:,3].count(),2)\n",
    "avg_age = round(metavdataf1.iloc[:,2].mean(),1)\n",
    "avg_sex_ratio, avg_age"
   ]
  }
 ],
 "metadata": {
  "kernelspec": {
   "display_name": "Python 3",
   "language": "python",
   "name": "python3"
  },
  "language_info": {
   "codemirror_mode": {
    "name": "ipython",
    "version": 3
   },
   "file_extension": ".py",
   "mimetype": "text/x-python",
   "name": "python",
   "nbconvert_exporter": "python",
   "pygments_lexer": "ipython3",
   "version": "3.8.3"
  }
 },
 "nbformat": 4,
 "nbformat_minor": 4
}
